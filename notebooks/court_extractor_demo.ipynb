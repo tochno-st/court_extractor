{
 "cells": [
  {
   "cell_type": "markdown",
   "metadata": {},
   "source": [
    "# Court Data Extractor Demo\n",
    "\n",
    "This notebook demonstrates how to use different modules from the Court Data Extractor package.\n",
    "\n",
    "## Setup\n",
    "\n",
    "First, let's import all necessary modules and create instances of our extractors."
   ]
  },
  {
   "cell_type": "code",
   "execution_count": 1,
   "metadata": {},
   "outputs": [],
   "source": [
    "import pandas as pd\n",
    "from src.articles import ArticlesExtractor\n",
    "from src.gender import GenderExtractor\n",
    "from src.districts import MunicipalityExtractor\n",
    "from src.punishments import PunishmentExtractor\n",
    "\n",
    "# Initialize extractors\n",
    "articles_extractor = ArticlesExtractor(remove_duplicates=True)\n",
    "gender_extractor = GenderExtractor(russian_names_db=False)\n",
    "municipality_extractor = MunicipalityExtractor()\n",
    "punishment_extractor = PunishmentExtractor()"
   ]
  },
  {
   "cell_type": "markdown",
   "metadata": {},
   "source": [
    "## 1. Articles Extractor\n",
    "\n",
    "The Articles Extractor helps parse legal articles, their parts, and subparts from court decision texts."
   ]
  },
  {
   "cell_type": "code",
   "execution_count": 2,
   "metadata": {},
   "outputs": [
    {
     "name": "stdout",
     "output_type": "stream",
     "text": [
      "Single string processing result:\n",
      "[{'person': 'Person 1', 'articles': [{'article': '159', 'part': '2', 'subpart': None}], 'code_type': 'CRIMINAL'}]\n",
      "\n",
      "DataFrame processing results:\n",
      "\n",
      "Row 1:\n",
      "[{'person': 'Person 1', 'articles': [{'article': '159', 'part': '2', 'subpart': None}], 'code_type': 'CRIMINAL'}]\n",
      "\n",
      "Row 2:\n",
      "[{'person': 'Person 1', 'articles': [{'article': '20.1', 'part': None, 'subpart': None}, {'article': '19.3', 'part': '1', 'subpart': None}], 'code_type': 'ADMIN'}]\n",
      "\n",
      "Row 3:\n",
      "[{'person': 'Person 1', 'articles': [{'article': '105', 'part': '1', 'subpart': ['а']}, {'article': '111', 'part': '2', 'subpart': None}], 'code_type': 'CRIMINAL'}]\n"
     ]
    }
   ],
   "source": [
    "# Example 1: Process single string\n",
    "test_string = \"Губаев Борис Магомедович - ст.159 ч.2 УК РФ\"\n",
    "result = articles_extractor.process_string(test_string)\n",
    "print(\"Single string processing result:\")\n",
    "print(result)\n",
    "\n",
    "# Example 2: Process DataFrame\n",
    "data = {\n",
    "    'text_column': [\n",
    "        \"Губаев Борис Магомедович - ст.159 ч.2 УК РФ\",\n",
    "        \"ст. 20.1 КоАП; ст. 19.3 ч.1 КоАП\",\n",
    "        \"ст. 105 ч.1 п.а УК; ст. 111 ч.2 УК\"\n",
    "    ]\n",
    "}\n",
    "df = pd.DataFrame(data)\n",
    "\n",
    "results = articles_extractor.process_dataframe(df, 'text_column', parallel=True, n_workers=2)\n",
    "print(\"\\nDataFrame processing results:\")\n",
    "for i, result in enumerate(results):\n",
    "    print(f\"\\nRow {i+1}:\")\n",
    "    print(result)"
   ]
  },
  {
   "cell_type": "markdown",
   "metadata": {},
   "source": [
    "## 2. Gender Extractor\n",
    "\n",
    "The Gender Extractor helps determine the gender of defendants from their full names."
   ]
  },
  {
   "cell_type": "code",
   "execution_count": 3,
   "metadata": {},
   "outputs": [
    {
     "name": "stdout",
     "output_type": "stream",
     "text": [
      "Gender extraction result:\n",
      "[('Волостных Владислав Витальевич', 'M')]\n"
     ]
    }
   ],
   "source": [
    "# Example: Extract gender from text\n",
    "text = \"Волостных Владислав Витальевич - ст.291 ч.3; ст.222 ч.1; ст.290 ч.5 п.в; ст.290 ч.5 п.в; ст.290 ч.5 п.в УК РФ\"\n",
    "result = gender_extractor.extract_genders(text)\n",
    "print(\"Gender extraction result:\")\n",
    "print(result)\n",
    "\n",
    "# Note: Results show (name, gender) where gender can be:\n",
    "# M - male\n",
    "# F - female\n",
    "# U - undefined\n",
    "# C - contradiction"
   ]
  },
  {
   "cell_type": "markdown",
   "metadata": {},
   "source": [
    "## 3. Municipality Extractor\n",
    "\n",
    "The Municipality Extractor helps determine the region and municipality for a given court code."
   ]
  },
  {
   "cell_type": "code",
   "execution_count": 4,
   "metadata": {},
   "outputs": [
    {
     "name": "stdout",
     "output_type": "stream",
     "text": [
      "Court code: 61RS0006\n",
      "Region: Ростовская\n",
      "Municipality: Городской округ Город Ростов-на-Дону\n",
      "OKTMO: 60701000\n",
      "\n",
      "DataFrame processing result:\n",
      "  court_code      region                          municipality     oktmo\n",
      "0   61RS0006  Ростовская  Городской округ Город Ростов-на-Дону  60701000\n",
      "1   61RS0007  Ростовская  Городской округ Город Ростов-на-Дону  60701000\n",
      "2   61RS0008  Ростовская  Городской округ Город Ростов-на-Дону  60701000\n"
     ]
    }
   ],
   "source": [
    "# Example 1: Get municipality for single court code\n",
    "court_code = \"61RS0006\"\n",
    "region, municipality, oktmo = municipality_extractor.get_municipality(court_code)\n",
    "print(f\"Court code: {court_code}\")\n",
    "print(f\"Region: {region}\")\n",
    "print(f\"Municipality: {municipality}\")\n",
    "print(f\"OKTMO: {oktmo}\")\n",
    "\n",
    "# Example 2: Process DataFrame with court codes\n",
    "data = {\n",
    "    'court_code': ['61RS0006', '61RS0007', '61RS0008']\n",
    "}\n",
    "df = pd.DataFrame(data)\n",
    "df = municipality_extractor.process_dataframe(df, 'court_code')\n",
    "print(\"\\nDataFrame processing result:\")\n",
    "print(df)"
   ]
  },
  {
   "cell_type": "markdown",
   "metadata": {},
   "source": [
    "## 4. Punishment Extractor\n",
    "\n",
    "The Punishment Extractor helps extract structured information about punishments from court decision texts."
   ]
  },
  {
   "cell_type": "code",
   "execution_count": null,
   "metadata": {},
   "outputs": [],
   "source": [
    "# Example: Process DataFrame with court decisions\n",
    "# Note: This requires a DataFrame with 'result_text' and 'defendants_simple' columns\n",
    "# and a valid punishments.yaml configuration file\n",
    "\n",
    "# Sample data\n",
    "data = {\n",
    "    'result_text': [\n",
    "        \"Приговор: Иванов Иван Иванович приговорен к лишению свободы сроком на 5 лет\",\n",
    "        \"Приговор: Петров Петр Петрович приговорен к штрафу в размере 100000 рублей\"\n",
    "    ],\n",
    "    'defendants_simple': [\n",
    "        \"Иванов Иван Иванович\",\n",
    "        \"Петров Петр Петрович\"\n",
    "    ]\n",
    "}\n",
    "df = pd.DataFrame(data)\n",
    "\n",
    "# Process the DataFrame\n",
    "df = punishment_extractor.process_dataframe(df)\n",
    "print(\"Punishment extraction results:\")\n",
    "print(df[['defendants_simple', 'punishments']])"
   ]
  }
 ],
 "metadata": {
  "kernelspec": {
   "display_name": "Python 3",
   "language": "python",
   "name": "python3"
  },
  "language_info": {
   "codemirror_mode": {
    "name": "ipython",
    "version": 3
   },
   "file_extension": ".py",
   "mimetype": "text/x-python",
   "name": "python",
   "nbconvert_exporter": "python",
   "pygments_lexer": "ipython3",
   "version": "3.11.1"
  }
 },
 "nbformat": 4,
 "nbformat_minor": 4
}
