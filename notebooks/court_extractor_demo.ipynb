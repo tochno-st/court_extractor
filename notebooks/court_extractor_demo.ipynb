{
 "cells": [
  {
   "cell_type": "markdown",
   "metadata": {},
   "source": [
    "# Court Data Extractor Demo\n",
    "\n",
    "This notebook demonstrates how to use different modules from the Court Data Extractor package.\n",
    "\n",
    "## Setup\n",
    "\n",
    "First, let's import all necessary modules and create instances of our extractors."
   ]
  },
  {
   "cell_type": "code",
   "execution_count": 6,
   "metadata": {},
   "outputs": [],
   "source": [
    "import os\n",
    "import sys\n",
    "import pandas as pd\n",
    "\n",
    "# Add the project root directory to Python path\n",
    "project_root = os.path.abspath(os.path.join(os.path.dirname('__file__'), '..'))\n",
    "sys.path.append(project_root)\n",
    "\n",
    "from src.articles import ArticlesExtractor\n",
    "from src.gender import GenderExtractor\n",
    "from src.districts import MunicipalityExtractor\n",
    "from src.punishments import PunishmentExtractor\n",
    "\n",
    "# Initialize extractors\n",
    "articles_extractor = ArticlesExtractor(remove_duplicates=True)\n",
    "gender_extractor = GenderExtractor(russian_names_db=False)\n",
    "municipality_extractor = MunicipalityExtractor()\n",
    "punishment_extractor = PunishmentExtractor(api_key=\"your api key\")"
   ]
  },
  {
   "cell_type": "markdown",
   "metadata": {},
   "source": [
    "## 1. Articles Extractor\n",
    "\n",
    "The Articles Extractor helps parse legal articles, their parts, and subparts from court decision texts."
   ]
  },
  {
   "cell_type": "code",
   "execution_count": 3,
   "metadata": {},
   "outputs": [
    {
     "name": "stdout",
     "output_type": "stream",
     "text": [
      "Single string processing result:\n",
      "[{'person': 'Person 1', 'articles': [{'article': '159', 'part': '2', 'subpart': None}], 'code_type': 'CRIMINAL'}]\n",
      "\n",
      "DataFrame processing results:\n",
      "\n",
      "Row 1:\n",
      "[{'person': 'Person 1', 'articles': [{'article': '159', 'part': '2', 'subpart': None}], 'code_type': 'CRIMINAL'}]\n",
      "\n",
      "Row 2:\n",
      "[{'person': 'Person 1', 'articles': [{'article': '20.1', 'part': None, 'subpart': None}, {'article': '19.3', 'part': '1', 'subpart': None}], 'code_type': 'ADMIN'}]\n",
      "\n",
      "Row 3:\n",
      "[{'person': 'Person 1', 'articles': [{'article': '105', 'part': '1', 'subpart': ['а']}, {'article': '111', 'part': '2', 'subpart': None}], 'code_type': 'CRIMINAL'}]\n"
     ]
    }
   ],
   "source": [
    "# Example 1: Process single string\n",
    "test_string = \"Губаев Борис Магомедович - ст.159 ч.2 УК РФ\"\n",
    "result = articles_extractor.process_string(test_string)\n",
    "print(\"Single string processing result:\")\n",
    "print(result)\n",
    "\n",
    "# Example 2: Process DataFrame\n",
    "data = {\n",
    "    'text_column': [\n",
    "        \"Губаев Борис Магомедович - ст.159 ч.2 УК РФ\",\n",
    "        \"ст. 20.1 КоАП; ст. 19.3 ч.1 КоАП\",\n",
    "        \"ст. 105 ч.1 п.а УК; ст. 111 ч.2 УК\"\n",
    "    ]\n",
    "}\n",
    "df = pd.DataFrame(data)\n",
    "\n",
    "results = articles_extractor.process_dataframe(df, 'text_column', parallel=True, n_workers=2)\n",
    "print(\"\\nDataFrame processing results:\")\n",
    "for i, result in enumerate(results):\n",
    "    print(f\"\\nRow {i+1}:\")\n",
    "    print(result)"
   ]
  },
  {
   "cell_type": "markdown",
   "metadata": {},
   "source": [
    "## 2. Gender Extractor\n",
    "\n",
    "The Gender Extractor helps determine the gender of defendants from their full names."
   ]
  },
  {
   "cell_type": "code",
   "execution_count": 4,
   "metadata": {},
   "outputs": [
    {
     "name": "stdout",
     "output_type": "stream",
     "text": [
      "Gender extraction result:\n",
      "[('Волостных Владислав Витальевич', 'M')]\n"
     ]
    }
   ],
   "source": [
    "# Example: Extract gender from text\n",
    "text = \"Волостных Владислав Витальевич - ст.291 ч.3; ст.222 ч.1; ст.290 ч.5 п.в; ст.290 ч.5 п.в; ст.290 ч.5 п.в УК РФ\"\n",
    "result = gender_extractor.extract_genders(text)\n",
    "print(\"Gender extraction result:\")\n",
    "print(result)\n",
    "\n",
    "# Note: Results show (name, gender) where gender can be:\n",
    "# M - male\n",
    "# F - female\n",
    "# U - undefined\n",
    "# C - contradiction"
   ]
  },
  {
   "cell_type": "markdown",
   "metadata": {},
   "source": [
    "## 3. Municipality Extractor\n",
    "\n",
    "The Municipality Extractor helps determine the region and municipality for a given court code."
   ]
  },
  {
   "cell_type": "code",
   "execution_count": 5,
   "metadata": {},
   "outputs": [
    {
     "name": "stdout",
     "output_type": "stream",
     "text": [
      "Court code: 61RS0006\n",
      "Region: Ростовская\n",
      "Municipality: Городской округ Город Ростов-на-Дону\n",
      "OKTMO: 60701000\n",
      "\n",
      "DataFrame processing result:\n",
      "  court_code      region                          municipality     oktmo\n",
      "0   61RS0006  Ростовская  Городской округ Город Ростов-на-Дону  60701000\n",
      "1   61RS0007  Ростовская  Городской округ Город Ростов-на-Дону  60701000\n",
      "2   61RS0008  Ростовская  Городской округ Город Ростов-на-Дону  60701000\n"
     ]
    }
   ],
   "source": [
    "# Example 1: Get municipality for single court code\n",
    "court_code = \"61RS0006\"\n",
    "region, municipality, oktmo = municipality_extractor.get_municipality(court_code)\n",
    "print(f\"Court code: {court_code}\")\n",
    "print(f\"Region: {region}\")\n",
    "print(f\"Municipality: {municipality}\")\n",
    "print(f\"OKTMO: {oktmo}\")\n",
    "\n",
    "# Example 2: Process DataFrame with court codes\n",
    "data = {\n",
    "    'court_code': ['61RS0006', '61RS0007', '61RS0008']\n",
    "}\n",
    "df = pd.DataFrame(data)\n",
    "df = municipality_extractor.process_dataframe(df, 'court_code')\n",
    "print(\"\\nDataFrame processing result:\")\n",
    "print(df)"
   ]
  },
  {
   "cell_type": "markdown",
   "metadata": {},
   "source": [
    "## 4. Punishment Extractor\n",
    "\n",
    "The Punishment Extractor helps extract structured information about punishments from court decision texts."
   ]
  },
  {
   "cell_type": "code",
   "execution_count": 7,
   "metadata": {},
   "outputs": [
    {
     "name": "stdout",
     "output_type": "stream",
     "text": [
      "Punishment extraction results:\n",
      "{'Шестаков Александр Владимирович': {'1': {'punishment': 'лишение свободы на определенный срок', 'type': 'колония общего режима', 'severity': {'years': 4, 'months': 6, 'rubles': 0, 'days': 0, 'hours': 0}}}}\n"
     ]
    }
   ],
   "source": [
    "input_string = \"\"\"Шестакова Александра Владимировича признать виновным в совершении преступлений, предусмотренных п. «з» ч.2 ст.111, п. \n",
    "«а» ч.3 ст.158 Уголовного кодекса Российской Федерации и назначить ему наказание: - по п. «з» ч.2 ст.111УК РФ – в виде лишения свободы на \n",
    "срок три года; - по п. «а» ч.3 ст.158 УК РФ – в виде лишения свободы на срок два года. На основании ч.3 ст. 69 Уголовного кодекса Российской \n",
    "Федерации по совокупности преступлений путем частичного сложения наказаний окончательно назначить Шестакову Александру Владимировичу наказание \n",
    "в виде лишения свободы на срок четыре года. В соответствии со ст. 70 Уголовного кодекса Российской Федерации, по совокупности приговоров, \n",
    "к наказанию, назначенному по настоящему приговору, частично присоединить неотбытую часть наказания по приговору от 18.05.2021 Уватского районного \n",
    "суда Тюменской области и окончательно назначить Шестакову Александру Владимировичу наказание в виде лишения свободы на срок 4 (четыре) года 6 (шесть)\n",
    "месяцев, с отбыванием в исправительной колонии общего режима. Меру пресечения в виде подписки о невыезде и надлежащем поведении Шестакову \n",
    "Александру Владимировичу изменить на меру пресечения в виде заключения под стражу, взять его под стражу немедленно в зале суда. \n",
    "Срок наказания Шестакову Александру Владимировичу исчислять со дня вступления настоящего приговора в законную силу. В соответствии с п. \"б\" ч. \n",
    "3.1 ст. 72 Уголовного кодекса Российской Федерации время содержания под стражей Шестакову Александру Владимировичу с 18 мая 2023 года до дня \n",
    "вступления настоящего приговора в законную силу зачесть в срок лишения свободы из расчета один день содержания под стражей за полтора дня отбывания \n",
    "наказания в исправительной колонии общего режима.\"\"\"\n",
    "\n",
    "initial_string, res = punishment_extractor.find_punishemtns(input_string)\n",
    "\n",
    "print(\"Punishment extraction results:\")\n",
    "print(res)"
   ]
  }
 ],
 "metadata": {
  "kernelspec": {
   "display_name": "Python 3",
   "language": "python",
   "name": "python3"
  },
  "language_info": {
   "codemirror_mode": {
    "name": "ipython",
    "version": 3
   },
   "file_extension": ".py",
   "mimetype": "text/x-python",
   "name": "python",
   "nbconvert_exporter": "python",
   "pygments_lexer": "ipython3",
   "version": "3.11.1"
  }
 },
 "nbformat": 4,
 "nbformat_minor": 4
}
